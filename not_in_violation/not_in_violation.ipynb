{
 "cells": [
  {
   "cell_type": "code",
   "execution_count": null,
   "metadata": {},
   "outputs": [],
   "source": [
    "import polars as pl\n",
    "from datetime import date\n",
    "import toml\n",
    "from googleapiclient.discovery import build\n",
    "from utils import auth, drive"
   ]
  },
  {
   "cell_type": "code",
   "execution_count": null,
   "metadata": {},
   "outputs": [],
   "source": [
    "INPUT_FILE = 'january2024_mandatory_use_full'   # update this before running"
   ]
  },
  {
   "cell_type": "code",
   "execution_count": null,
   "metadata": {},
   "outputs": [],
   "source": [
    "with open('../secrets.toml', 'r') as f:\n",
    "    secrets = toml.load(f)\n",
    "\n",
    "creds = auth.auth()\n",
    "service = build('drive', 'v3', credentials=creds)"
   ]
  },
  {
   "cell_type": "code",
   "execution_count": null,
   "metadata": {},
   "outputs": [],
   "source": [
    "no_violation = (\n",
    "    drive.lazyframe_from_id_and_sheetname(\n",
    "        service=service, file_id=secrets['files']['not_violation'], sheet_name='no_violation'\n",
    "    )\n",
    "    .with_columns(\n",
    "        pl.col('exclude until').str.to_date(format='%m-%d-%y'),\n",
    "        pl.col('final_id').cast(pl.String)\n",
    "    )\n",
    "    .filter(\n",
    "        pl.col('exclude until') > date.today()\n",
    "    )\n",
    ")"
   ]
  },
  {
   "cell_type": "code",
   "execution_count": null,
   "metadata": {},
   "outputs": [],
   "source": [
    "file_path = f'data/{INPUT_FILE}_nv.csv'\n",
    "mu = (\n",
    "    pl.scan_csv(f'data/{INPUT_FILE}.csv')\n",
    "    .join(no_violation, on='final_id', how='anti')\n",
    "    .collect()\n",
    "    .write_csv(file_path)\n",
    ")\n",
    "\n",
    "print(f'{file_path} generated')"
   ]
  }
 ],
 "metadata": {
  "kernelspec": {
   "display_name": "pmp",
   "language": "python",
   "name": "python3"
  },
  "language_info": {
   "codemirror_mode": {
    "name": "ipython",
    "version": 3
   },
   "file_extension": ".py",
   "mimetype": "text/x-python",
   "name": "python",
   "nbconvert_exporter": "python",
   "pygments_lexer": "ipython3",
   "version": "3.12.0"
  }
 },
 "nbformat": 4,
 "nbformat_minor": 2
}
